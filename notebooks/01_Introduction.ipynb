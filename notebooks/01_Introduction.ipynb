{
 "cells": [
  {
   "cell_type": "markdown",
   "id": "bd9f89a2-e9ea-4bde-84ca-ff589487a8bb",
   "metadata": {},
   "source": [
    "# Introduction"
   ]
  },
  {
   "cell_type": "markdown",
   "id": "64559c69-3afb-4e37-bb01-821d59ed26dd",
   "metadata": {},
   "source": [
    "The aim of these notebooks is to showcase how the agent-based tool works and how it can be used for forecast outcomes in business or other domains.\n",
    "\n",
    "The notebooks are structured in a chronological order to facilitate best understanding of the concepts and the underlying data structures."
   ]
  },
  {
   "cell_type": "markdown",
   "id": "1af48963-72e3-4f1e-99cc-3a891785dcf7",
   "metadata": {},
   "source": [
    "## Data"
   ]
  },
  {
   "cell_type": "raw",
   "id": "eba8512b-66d6-49b0-b8d4-ec1fe347c841",
   "metadata": {},
   "source": [
    "To make the model as close to real as possible we use a real live dataset. \n",
    "\n",
    "In this case we use the dataset:\n",
    "\n",
    "- UCI's Online Retail II Data Set\n",
    "- https://archive.ics.uci.edu/dataset/502/online+retail+ii\n",
    "\n",
    "I put the data in a datafolder on my host computer so for the container to be able to access it, map the volume where you put the data into the container. This can be done with adding the following line to your docker run command: \n",
    "-v <\"location of your data folder\">:/home/hcekne/data/\n",
    "\n",
    "In my case I just append the runContainer.sh bash script in the following way:\n",
    "\n",
    "\n",
    "docker run -it --rm \\\n",
    "\t-p 8888:8888 \\\n",
    "\t--user root \\\n",
    "\t-e NB_USER=hcekne \\\n",
    "\t-e NB_UID=1000 \\\n",
    "\t-e NB_GID=984 \\\n",
    "\t-e CHOWN_HOME=yes \\\n",
    "\t-e CHOWN_HOME_OPTS=\"-R\" \\\n",
    "\t-e RETRAIN_MODELS=\"yes\" \\\n",
    "\t-w \"/home/hcekne\" \\\n",
    "\t-v \"${PWD}\":/home/hcekne/work/ \\\n",
    "\t-v /home/hcekne/ml_data/:/home/hcekne/data/ \\\n",
    "\tabt_ds\n"
   ]
  },
  {
   "cell_type": "markdown",
   "id": "2b10efb0-a83c-424f-97d8-cf4fa7d6ffc8",
   "metadata": {},
   "source": [
    "## Next Steps"
   ]
  },
  {
   "cell_type": "raw",
   "id": "e8110b2d-a62d-48bc-ae33-71e8c895e341",
   "metadata": {},
   "source": [
    "Move to the notebook 02_expoloreData for a quick introduction and understanding of the dataset"
   ]
  },
  {
   "cell_type": "code",
   "execution_count": null,
   "id": "6b316325-b8af-43be-bdea-fbf2264a2f74",
   "metadata": {},
   "outputs": [],
   "source": []
  }
 ],
 "metadata": {
  "kernelspec": {
   "display_name": "Python 3 (ipykernel)",
   "language": "python",
   "name": "python3"
  },
  "language_info": {
   "codemirror_mode": {
    "name": "ipython",
    "version": 3
   },
   "file_extension": ".py",
   "mimetype": "text/x-python",
   "name": "python",
   "nbconvert_exporter": "python",
   "pygments_lexer": "ipython3",
   "version": "3.10.11"
  }
 },
 "nbformat": 4,
 "nbformat_minor": 5
}
