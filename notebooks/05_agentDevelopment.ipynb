{
 "cells": [
  {
   "cell_type": "markdown",
   "id": "3d802c65-a29f-4b5f-b505-2d29064e5bfd",
   "metadata": {},
   "source": [
    "# 05. Developing the Agent, Environment and Tracking tools"
   ]
  },
  {
   "cell_type": "markdown",
   "id": "54d4d635-4c1c-4b2d-a17b-cd12d3d1a660",
   "metadata": {},
   "source": [
    "\n",
    "Firstly, assume that each agent, or shopper is an instantiation from a general class of shoppers. We want to use the historic data to approximate the properties of each agent and the probability that a new agent is added to the collection of active agents."
   ]
  },
  {
   "cell_type": "code",
   "execution_count": null,
   "id": "cdb98c19-2f77-4faf-a321-22cfb3c9b692",
   "metadata": {},
   "outputs": [],
   "source": [
    "# Importing necessary modules\n",
    "import random\n",
    "\n",
    "class Agent:\n",
    "    def __init__(self, customer_id, avg_duration, is_one_time_shopper, duration_until_censoring, churn_score):\n",
    "        self.customer_id = customer_id\n",
    "        self.avg_duration = avg_duration  # Average duration between shops\n",
    "        self.is_one_time_shopper = is_one_time_shopper  # True if the customer is a one-time shopper\n",
    "        self.duration_until_censoring = duration_until_censoring  # Duration until last shop event\n",
    "        self.churn_score = churn_score  # Churn score\n",
    "        self.has_churned = False  # Initialize as False, can be updated later\n",
    "\n",
    "    def should_shop_today(self, seasonality_factor=1):\n",
    "        # If the customer has churned, they won't shop\n",
    "        if self.has_churned:\n",
    "            return False\n",
    "\n",
    "        # If one-time shopper and duration_until_censoring is high, they won't shop\n",
    "        if self.is_one_time_shopper and self.duration_until_censoring > 30:\n",
    "            return False\n",
    "\n",
    "        # Determine the probability of shopping today\n",
    "        prob_of_shopping = 1 / (self.avg_duration * seasonality_factor)\n",
    "        \n",
    "        # Generate a random number and check if the agent should shop today\n",
    "        return random.random() < prob_of_shopping\n",
    "\n",
    "    def update_churn_score(self, new_data):\n",
    "        # Update churn score based on new data (this is a simplified example)\n",
    "        # In a real-world scenario, you'd use more complex calculations here\n",
    "        self.churn_score = new_data\n",
    "\n",
    "    def check_for_churn(self, churn_threshold=0.9):\n",
    "        # Update the has_churned status based on the churn_threshold\n",
    "        self.has_churned = self.churn_score > churn_threshold\n",
    "\n",
    "# Example of initializing an agent and checking if they should shop today\n",
    "example_agent = Agent(customer_id=17850, avg_duration=20, is_one_time_shopper=False, duration_until_censoring=10, churn_score=0.2)\n",
    "example_agent.should_shop_today()\n"
   ]
  }
 ],
 "metadata": {
  "kernelspec": {
   "display_name": "Python 3 (ipykernel)",
   "language": "python",
   "name": "python3"
  },
  "language_info": {
   "codemirror_mode": {
    "name": "ipython",
    "version": 3
   },
   "file_extension": ".py",
   "mimetype": "text/x-python",
   "name": "python",
   "nbconvert_exporter": "python",
   "pygments_lexer": "ipython3",
   "version": "3.10.11"
  }
 },
 "nbformat": 4,
 "nbformat_minor": 5
}
