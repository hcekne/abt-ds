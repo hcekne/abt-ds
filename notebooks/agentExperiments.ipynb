{
 "cells": [
  {
   "cell_type": "markdown",
   "id": "99605401-7543-4753-bc75-14f4af6fd9af",
   "metadata": {},
   "source": [
    "# Agent Experimentation and Development"
   ]
  },
  {
   "cell_type": "code",
   "execution_count": 1,
   "id": "a3427aa5-a8dc-4d5b-8502-538e26779c4d",
   "metadata": {},
   "outputs": [],
   "source": [
    "from ds_abt.agent import Agent"
   ]
  },
  {
   "cell_type": "code",
   "execution_count": 2,
   "id": "2b1b13a3-c17e-49dd-8082-5e13f218f7f9",
   "metadata": {},
   "outputs": [
    {
     "name": "stdout",
     "output_type": "stream",
     "text": [
      "<class 'ds_abt.agent.Agent'>\n"
     ]
    }
   ],
   "source": [
    "print(Agent)"
   ]
  },
  {
   "cell_type": "code",
   "execution_count": 3,
   "id": "93f6c4b7-4518-40e2-b386-8b7dba869920",
   "metadata": {},
   "outputs": [],
   "source": [
    "a = Agent(id = 1,initial_state={'temperature' : 'warm'},rules=None)"
   ]
  },
  {
   "cell_type": "code",
   "execution_count": 4,
   "id": "8d3a17ee-ce80-42ce-b317-054c5e2536f1",
   "metadata": {},
   "outputs": [
    {
     "data": {
      "text/plain": [
       "Agent 1 with state {'temperature': 'warm'}"
      ]
     },
     "execution_count": 4,
     "metadata": {},
     "output_type": "execute_result"
    }
   ],
   "source": [
    "a"
   ]
  },
  {
   "cell_type": "code",
   "execution_count": null,
   "id": "52b1dce1-463a-4fb2-9edb-7f482a3c0a16",
   "metadata": {},
   "outputs": [],
   "source": []
  }
 ],
 "metadata": {
  "kernelspec": {
   "display_name": "Python 3 (ipykernel)",
   "language": "python",
   "name": "python3"
  },
  "language_info": {
   "codemirror_mode": {
    "name": "ipython",
    "version": 3
   },
   "file_extension": ".py",
   "mimetype": "text/x-python",
   "name": "python",
   "nbconvert_exporter": "python",
   "pygments_lexer": "ipython3",
   "version": "3.10.11"
  }
 },
 "nbformat": 4,
 "nbformat_minor": 5
}
