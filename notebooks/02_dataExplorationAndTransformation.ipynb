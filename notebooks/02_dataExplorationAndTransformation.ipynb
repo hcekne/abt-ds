{
 "cells": [
  {
   "cell_type": "markdown",
   "id": "762cc6a3-5729-476b-9419-80cf810012ca",
   "metadata": {},
   "source": [
    "# 02. Initial Data Exploration, Transformation and Model Preparation"
   ]
  },
  {
   "cell_type": "code",
   "execution_count": 1,
   "id": "84cb1780-978e-402b-a181-817c3f95709b",
   "metadata": {},
   "outputs": [],
   "source": [
    "import gc\n",
    "import os\n",
    "from os import system, environ\n",
    "import matplotlib.pyplot as plt\n",
    "import numpy as np\n",
    "import pandas as pd\n",
    "\n",
    "                                \n",
    "from ds_abm.utils.data_prep import convert_datatypes, feature_engineering, data_cleaning, create_integer_indices"
   ]
  },
  {
   "cell_type": "code",
   "execution_count": 2,
   "id": "523d573c-de93-4127-a135-f0836a5e9d3c",
   "metadata": {},
   "outputs": [],
   "source": [
    "# get the value of the PATH environment variable\n",
    "DATAPATH = environ['DATAPATH']"
   ]
  },
  {
   "cell_type": "markdown",
   "id": "12012335-261d-4ee2-bdfe-14c3616aef71",
   "metadata": {},
   "source": [
    "## Data Load"
   ]
  },
  {
   "cell_type": "code",
   "execution_count": 3,
   "id": "233f172f-546a-49a4-b117-3af183e650ef",
   "metadata": {},
   "outputs": [
    {
     "name": "stdout",
     "output_type": "stream",
     "text": [
      "total 351040\n",
      "-rw-rw-r-- 1 hcekne hcekne  3941858 Sep 11 19:56 calibration_data.feather\n",
      "-rw-rw-r-- 1 hcekne hcekne  1164250 Sep  5 13:36 customer_embeddings.csv\n",
      "-rw-rw-r-- 1 hcekne hcekne  1439601 Sep  5 13:45 customer_embeddings_full.csv\n",
      "-rw-rw-r-- 1 hcekne hcekne    25381 Aug 23 12:40 daily_new_customers.csv\n",
      "-rw-rw-r-- 1 hcekne hcekne   198040 Aug 25 16:41 data_customer_grouped.csv\n",
      "-rw-rw-r-- 1 hcekne hcekne  2747789 Aug 25 09:12 dataForCustomerDuration.csv\n",
      "-rw-rw-r-- 1 hcekne hcekne 31902186 Sep 11 19:56 fullDataSet.feather\n",
      "-rw-rw-r-- 1 hcekne hcekne 22000096 Aug 31 12:51 new_training_data_torch_prep.csv\n",
      "-rw------- 1 hcekne hcekne 45622278 May 22 14:20 online_retail_II.xlsx\n",
      "-rw-r--r-- 1 hcekne hcekne 45622418 Aug 17 09:23 online+retail+ii.zip\n",
      "-rw-rw-r-- 1 hcekne hcekne   972926 Sep  5 13:36 product_embeddings.csv\n",
      "-rw-rw-r-- 1 hcekne hcekne  1021140 Sep  5 13:49 product_embeddings_full.csv\n",
      "-rw-rw-r-- 1 hcekne hcekne 83633721 Aug 31 17:01 training_data.csv\n",
      "-rw-rw-r-- 1 hcekne hcekne 25395346 Sep 11 19:56 training_data.feather\n",
      "-rw-rw-r-- 1 hcekne hcekne 88993917 Aug 31 15:58 training_data_torch_prep.csv\n",
      "-rw-rw-r-- 1 hcekne hcekne  4732706 Sep 11 19:56 validation_data.feather\n"
     ]
    },
    {
     "data": {
      "text/plain": [
       "0"
      ]
     },
     "execution_count": 3,
     "metadata": {},
     "output_type": "execute_result"
    }
   ],
   "source": [
    "system(f\"ls -l {DATAPATH}\")"
   ]
  },
  {
   "cell_type": "code",
   "execution_count": 4,
   "id": "d8cf974d-73a8-4c63-ad23-8d5fd1af1ff1",
   "metadata": {},
   "outputs": [],
   "source": [
    "## the data contains multiple sheets and we want to load all of them:"
   ]
  },
  {
   "cell_type": "code",
   "execution_count": 5,
   "id": "512f0812-bfee-4a35-9eec-fbcbfca66e86",
   "metadata": {},
   "outputs": [],
   "source": [
    "# Load all sheets from the Excel file\n",
    "all_sheets = pd.read_excel(DATAPATH+\"online_retail_II.xlsx\", sheet_name=None)"
   ]
  },
  {
   "cell_type": "code",
   "execution_count": 6,
   "id": "251714e7-4aa5-455c-9734-760a30c40dd1",
   "metadata": {},
   "outputs": [
    {
     "data": {
      "text/plain": [
       "1067522"
      ]
     },
     "execution_count": 6,
     "metadata": {},
     "output_type": "execute_result"
    }
   ],
   "source": [
    "# Access data from each sheet\n",
    "sheet_names = list(all_sheets.keys())\n",
    "\n",
    "data_sheet1 = all_sheets[sheet_names[0]]  # This will give you the data from the first tab\n",
    "data_sheet2 = all_sheets[sheet_names[1]]  # This will give you the data from the second tab\n",
    "\n",
    "#  concatenate the two datasets into one\n",
    "data = pd.concat([data_sheet1, data_sheet2], ignore_index=True)\n",
    "\n",
    "del all_sheets, data_sheet1, data_sheet2\n",
    "\n",
    "gc.collect()"
   ]
  },
  {
   "cell_type": "markdown",
   "id": "ba63db92-ef9e-44b9-a314-3840c92e56eb",
   "metadata": {},
   "source": [
    "## Preliminary Examination"
   ]
  },
  {
   "cell_type": "code",
   "execution_count": 7,
   "id": "db98cbc0-b6e8-4f62-8357-cabd25258c73",
   "metadata": {},
   "outputs": [
    {
     "data": {
      "text/html": [
       "<div>\n",
       "<style scoped>\n",
       "    .dataframe tbody tr th:only-of-type {\n",
       "        vertical-align: middle;\n",
       "    }\n",
       "\n",
       "    .dataframe tbody tr th {\n",
       "        vertical-align: top;\n",
       "    }\n",
       "\n",
       "    .dataframe thead th {\n",
       "        text-align: right;\n",
       "    }\n",
       "</style>\n",
       "<table border=\"1\" class=\"dataframe\">\n",
       "  <thead>\n",
       "    <tr style=\"text-align: right;\">\n",
       "      <th></th>\n",
       "      <th>Invoice</th>\n",
       "      <th>StockCode</th>\n",
       "      <th>Description</th>\n",
       "      <th>Quantity</th>\n",
       "      <th>InvoiceDate</th>\n",
       "      <th>Price</th>\n",
       "      <th>Customer ID</th>\n",
       "      <th>Country</th>\n",
       "    </tr>\n",
       "  </thead>\n",
       "  <tbody>\n",
       "    <tr>\n",
       "      <th>0</th>\n",
       "      <td>489434</td>\n",
       "      <td>85048</td>\n",
       "      <td>15CM CHRISTMAS GLASS BALL 20 LIGHTS</td>\n",
       "      <td>12</td>\n",
       "      <td>2009-12-01 07:45:00</td>\n",
       "      <td>6.95</td>\n",
       "      <td>13085.0</td>\n",
       "      <td>United Kingdom</td>\n",
       "    </tr>\n",
       "    <tr>\n",
       "      <th>1</th>\n",
       "      <td>489434</td>\n",
       "      <td>79323P</td>\n",
       "      <td>PINK CHERRY LIGHTS</td>\n",
       "      <td>12</td>\n",
       "      <td>2009-12-01 07:45:00</td>\n",
       "      <td>6.75</td>\n",
       "      <td>13085.0</td>\n",
       "      <td>United Kingdom</td>\n",
       "    </tr>\n",
       "    <tr>\n",
       "      <th>2</th>\n",
       "      <td>489434</td>\n",
       "      <td>79323W</td>\n",
       "      <td>WHITE CHERRY LIGHTS</td>\n",
       "      <td>12</td>\n",
       "      <td>2009-12-01 07:45:00</td>\n",
       "      <td>6.75</td>\n",
       "      <td>13085.0</td>\n",
       "      <td>United Kingdom</td>\n",
       "    </tr>\n",
       "    <tr>\n",
       "      <th>3</th>\n",
       "      <td>489434</td>\n",
       "      <td>22041</td>\n",
       "      <td>RECORD FRAME 7\" SINGLE SIZE</td>\n",
       "      <td>48</td>\n",
       "      <td>2009-12-01 07:45:00</td>\n",
       "      <td>2.10</td>\n",
       "      <td>13085.0</td>\n",
       "      <td>United Kingdom</td>\n",
       "    </tr>\n",
       "    <tr>\n",
       "      <th>4</th>\n",
       "      <td>489434</td>\n",
       "      <td>21232</td>\n",
       "      <td>STRAWBERRY CERAMIC TRINKET BOX</td>\n",
       "      <td>24</td>\n",
       "      <td>2009-12-01 07:45:00</td>\n",
       "      <td>1.25</td>\n",
       "      <td>13085.0</td>\n",
       "      <td>United Kingdom</td>\n",
       "    </tr>\n",
       "  </tbody>\n",
       "</table>\n",
       "</div>"
      ],
      "text/plain": [
       "  Invoice StockCode                          Description  Quantity  \\\n",
       "0  489434     85048  15CM CHRISTMAS GLASS BALL 20 LIGHTS        12   \n",
       "1  489434    79323P                   PINK CHERRY LIGHTS        12   \n",
       "2  489434    79323W                  WHITE CHERRY LIGHTS        12   \n",
       "3  489434     22041         RECORD FRAME 7\" SINGLE SIZE         48   \n",
       "4  489434     21232       STRAWBERRY CERAMIC TRINKET BOX        24   \n",
       "\n",
       "          InvoiceDate  Price  Customer ID         Country  \n",
       "0 2009-12-01 07:45:00   6.95      13085.0  United Kingdom  \n",
       "1 2009-12-01 07:45:00   6.75      13085.0  United Kingdom  \n",
       "2 2009-12-01 07:45:00   6.75      13085.0  United Kingdom  \n",
       "3 2009-12-01 07:45:00   2.10      13085.0  United Kingdom  \n",
       "4 2009-12-01 07:45:00   1.25      13085.0  United Kingdom  "
      ]
     },
     "execution_count": 7,
     "metadata": {},
     "output_type": "execute_result"
    }
   ],
   "source": [
    "data.head()"
   ]
  },
  {
   "cell_type": "code",
   "execution_count": 8,
   "id": "fd6e2e20-4147-4a13-a886-56f1a7c8de86",
   "metadata": {},
   "outputs": [
    {
     "name": "stdout",
     "output_type": "stream",
     "text": [
      "           Quantity                    InvoiceDate         Price  \\\n",
      "count  1.067371e+06                        1067371  1.067371e+06   \n",
      "mean   9.938898e+00  2011-01-02 21:13:55.394028544  4.649388e+00   \n",
      "min   -8.099500e+04            2009-12-01 07:45:00 -5.359436e+04   \n",
      "25%    1.000000e+00            2010-07-09 09:46:00  1.250000e+00   \n",
      "50%    3.000000e+00            2010-12-07 15:28:00  2.100000e+00   \n",
      "75%    1.000000e+01            2011-07-22 10:23:00  4.150000e+00   \n",
      "max    8.099500e+04            2011-12-09 12:50:00  3.897000e+04   \n",
      "std    1.727058e+02                            NaN  1.235531e+02   \n",
      "\n",
      "         Customer ID  \n",
      "count  824364.000000  \n",
      "mean    15324.638504  \n",
      "min     12346.000000  \n",
      "25%     13975.000000  \n",
      "50%     15255.000000  \n",
      "75%     16797.000000  \n",
      "max     18287.000000  \n",
      "std      1697.464450  \n"
     ]
    }
   ],
   "source": [
    "# Summary statistics\n",
    "print(data.describe())"
   ]
  },
  {
   "cell_type": "code",
   "execution_count": 9,
   "id": "e746cc0b-8e46-4849-bafd-8d378738f072",
   "metadata": {},
   "outputs": [
    {
     "name": "stdout",
     "output_type": "stream",
     "text": [
      "<class 'pandas.core.frame.DataFrame'>\n",
      "RangeIndex: 1067371 entries, 0 to 1067370\n",
      "Data columns (total 8 columns):\n",
      " #   Column       Non-Null Count    Dtype         \n",
      "---  ------       --------------    -----         \n",
      " 0   Invoice      1067371 non-null  object        \n",
      " 1   StockCode    1067371 non-null  object        \n",
      " 2   Description  1062989 non-null  object        \n",
      " 3   Quantity     1067371 non-null  int64         \n",
      " 4   InvoiceDate  1067371 non-null  datetime64[ns]\n",
      " 5   Price        1067371 non-null  float64       \n",
      " 6   Customer ID  824364 non-null   float64       \n",
      " 7   Country      1067371 non-null  object        \n",
      "dtypes: datetime64[ns](1), float64(2), int64(1), object(4)\n",
      "memory usage: 65.1+ MB\n",
      "None\n"
     ]
    }
   ],
   "source": [
    "# Info on data types and null values\n",
    "print(data.info())"
   ]
  },
  {
   "cell_type": "markdown",
   "id": "168938b1-1592-48e8-a916-48bd3a715dfe",
   "metadata": {},
   "source": [
    "## Data Transformation"
   ]
  },
  {
   "cell_type": "code",
   "execution_count": 10,
   "id": "b85e10af-2927-4008-bd56-a3a12c12a8b5",
   "metadata": {},
   "outputs": [],
   "source": [
    "### To make the dateset easier to work with and have a smaller memory footprint we convert some of the datatypes into more efficient structures "
   ]
  },
  {
   "cell_type": "code",
   "execution_count": 11,
   "id": "64587f46-5b9d-4b88-89c6-062f7060ebb2",
   "metadata": {},
   "outputs": [],
   "source": [
    "columns_datatypes = {\n",
    "    'Invoice': 'str',\n",
    "    'StockCode': 'str',\n",
    "    'Description': 'str',\n",
    "    'Country': 'str',\n",
    "    'Quantity': 'int16',\n",
    "    'Customer ID': 'float32',\n",
    "    'Price': 'float32'\n",
    "}\n",
    "\n",
    "data = convert_datatypes(data, columns_datatypes=columns_datatypes)"
   ]
  },
  {
   "cell_type": "code",
   "execution_count": 12,
   "id": "55d58510-9b80-4169-8778-6913c3868011",
   "metadata": {},
   "outputs": [
    {
     "name": "stdout",
     "output_type": "stream",
     "text": [
      "<class 'pandas.core.frame.DataFrame'>\n",
      "RangeIndex: 1067371 entries, 0 to 1067370\n",
      "Data columns (total 8 columns):\n",
      " #   Column           Non-Null Count    Dtype         \n",
      "---  ------           --------------    -----         \n",
      " 0   Invoice          1067371 non-null  object        \n",
      " 1   StockCode        1067371 non-null  object        \n",
      " 2   Description      1067371 non-null  object        \n",
      " 3   Quantity         1067371 non-null  int16         \n",
      " 4   InvoiceDatetime  1067371 non-null  datetime64[ns]\n",
      " 5   Price            1067371 non-null  float32       \n",
      " 6   Customer ID      824364 non-null   float32       \n",
      " 7   Country          1067371 non-null  object        \n",
      "dtypes: datetime64[ns](1), float32(2), int16(1), object(4)\n",
      "memory usage: 50.9+ MB\n"
     ]
    }
   ],
   "source": [
    "data.info()"
   ]
  },
  {
   "cell_type": "markdown",
   "id": "e6fbb1b9-7ec9-4caf-96de-036081004c4e",
   "metadata": {},
   "source": [
    "### Data Cleaning"
   ]
  },
  {
   "cell_type": "code",
   "execution_count": 13,
   "id": "c9c2ff9e-468f-4a4d-91e8-3e1c40629d57",
   "metadata": {},
   "outputs": [
    {
     "name": "stdout",
     "output_type": "stream",
     "text": [
      "Invoice                 0\n",
      "StockCode               0\n",
      "Description             0\n",
      "Quantity                0\n",
      "InvoiceDatetime         0\n",
      "Price                   0\n",
      "Customer ID        243007\n",
      "Country                 0\n",
      "dtype: int64\n"
     ]
    }
   ],
   "source": [
    "# Check for missing values\n",
    "print(data.isnull().sum())"
   ]
  },
  {
   "cell_type": "code",
   "execution_count": 14,
   "id": "b6077222-dea2-4600-96c7-2537e309db18",
   "metadata": {},
   "outputs": [],
   "source": [
    "data = data_cleaning(data)"
   ]
  },
  {
   "cell_type": "markdown",
   "id": "7a5ae35d-82c0-428b-82ce-d04d4fcb8c28",
   "metadata": {},
   "source": [
    "### Feature Engineering"
   ]
  },
  {
   "cell_type": "code",
   "execution_count": 15,
   "id": "c712fbd4-3aee-449a-9bb2-60f081f8ec63",
   "metadata": {},
   "outputs": [],
   "source": [
    "data = feature_engineering(data)"
   ]
  },
  {
   "cell_type": "code",
   "execution_count": 16,
   "id": "7631954b-10f0-4028-af1f-2a174c2ec286",
   "metadata": {},
   "outputs": [
    {
     "data": {
      "text/html": [
       "<div>\n",
       "<style scoped>\n",
       "    .dataframe tbody tr th:only-of-type {\n",
       "        vertical-align: middle;\n",
       "    }\n",
       "\n",
       "    .dataframe tbody tr th {\n",
       "        vertical-align: top;\n",
       "    }\n",
       "\n",
       "    .dataframe thead th {\n",
       "        text-align: right;\n",
       "    }\n",
       "</style>\n",
       "<table border=\"1\" class=\"dataframe\">\n",
       "  <thead>\n",
       "    <tr style=\"text-align: right;\">\n",
       "      <th></th>\n",
       "      <th>Invoice</th>\n",
       "      <th>StockCode</th>\n",
       "      <th>Description</th>\n",
       "      <th>Quantity</th>\n",
       "      <th>InvoiceDatetime</th>\n",
       "      <th>Price</th>\n",
       "      <th>Customer ID</th>\n",
       "      <th>Country</th>\n",
       "      <th>TotalSpending</th>\n",
       "      <th>PriceCategory</th>\n",
       "      <th>YearMonth</th>\n",
       "      <th>InvoiceDate</th>\n",
       "      <th>Year</th>\n",
       "      <th>Month</th>\n",
       "      <th>Weekday</th>\n",
       "    </tr>\n",
       "  </thead>\n",
       "  <tbody>\n",
       "    <tr>\n",
       "      <th>0</th>\n",
       "      <td>489434</td>\n",
       "      <td>85048</td>\n",
       "      <td>15CM CHRISTMAS GLASS BALL 20 LIGHTS</td>\n",
       "      <td>12</td>\n",
       "      <td>2009-12-01 07:45:00</td>\n",
       "      <td>6.95</td>\n",
       "      <td>13085.0</td>\n",
       "      <td>United Kingdom</td>\n",
       "      <td>83.399994</td>\n",
       "      <td>Very Low</td>\n",
       "      <td>2009-12</td>\n",
       "      <td>2009-12-01</td>\n",
       "      <td>2009</td>\n",
       "      <td>12</td>\n",
       "      <td>Tuesday</td>\n",
       "    </tr>\n",
       "    <tr>\n",
       "      <th>1</th>\n",
       "      <td>489434</td>\n",
       "      <td>79323P</td>\n",
       "      <td>PINK CHERRY LIGHTS</td>\n",
       "      <td>12</td>\n",
       "      <td>2009-12-01 07:45:00</td>\n",
       "      <td>6.75</td>\n",
       "      <td>13085.0</td>\n",
       "      <td>United Kingdom</td>\n",
       "      <td>81.000000</td>\n",
       "      <td>Very Low</td>\n",
       "      <td>2009-12</td>\n",
       "      <td>2009-12-01</td>\n",
       "      <td>2009</td>\n",
       "      <td>12</td>\n",
       "      <td>Tuesday</td>\n",
       "    </tr>\n",
       "    <tr>\n",
       "      <th>2</th>\n",
       "      <td>489434</td>\n",
       "      <td>79323W</td>\n",
       "      <td>WHITE CHERRY LIGHTS</td>\n",
       "      <td>12</td>\n",
       "      <td>2009-12-01 07:45:00</td>\n",
       "      <td>6.75</td>\n",
       "      <td>13085.0</td>\n",
       "      <td>United Kingdom</td>\n",
       "      <td>81.000000</td>\n",
       "      <td>Very Low</td>\n",
       "      <td>2009-12</td>\n",
       "      <td>2009-12-01</td>\n",
       "      <td>2009</td>\n",
       "      <td>12</td>\n",
       "      <td>Tuesday</td>\n",
       "    </tr>\n",
       "    <tr>\n",
       "      <th>3</th>\n",
       "      <td>489434</td>\n",
       "      <td>22041</td>\n",
       "      <td>RECORD FRAME 7\" SINGLE SIZE</td>\n",
       "      <td>48</td>\n",
       "      <td>2009-12-01 07:45:00</td>\n",
       "      <td>2.10</td>\n",
       "      <td>13085.0</td>\n",
       "      <td>United Kingdom</td>\n",
       "      <td>100.799995</td>\n",
       "      <td>Very Low</td>\n",
       "      <td>2009-12</td>\n",
       "      <td>2009-12-01</td>\n",
       "      <td>2009</td>\n",
       "      <td>12</td>\n",
       "      <td>Tuesday</td>\n",
       "    </tr>\n",
       "    <tr>\n",
       "      <th>4</th>\n",
       "      <td>489434</td>\n",
       "      <td>21232</td>\n",
       "      <td>STRAWBERRY CERAMIC TRINKET BOX</td>\n",
       "      <td>24</td>\n",
       "      <td>2009-12-01 07:45:00</td>\n",
       "      <td>1.25</td>\n",
       "      <td>13085.0</td>\n",
       "      <td>United Kingdom</td>\n",
       "      <td>30.000000</td>\n",
       "      <td>Very Low</td>\n",
       "      <td>2009-12</td>\n",
       "      <td>2009-12-01</td>\n",
       "      <td>2009</td>\n",
       "      <td>12</td>\n",
       "      <td>Tuesday</td>\n",
       "    </tr>\n",
       "    <tr>\n",
       "      <th>5</th>\n",
       "      <td>489434</td>\n",
       "      <td>22064</td>\n",
       "      <td>PINK DOUGHNUT TRINKET POT</td>\n",
       "      <td>24</td>\n",
       "      <td>2009-12-01 07:45:00</td>\n",
       "      <td>1.65</td>\n",
       "      <td>13085.0</td>\n",
       "      <td>United Kingdom</td>\n",
       "      <td>39.599998</td>\n",
       "      <td>Very Low</td>\n",
       "      <td>2009-12</td>\n",
       "      <td>2009-12-01</td>\n",
       "      <td>2009</td>\n",
       "      <td>12</td>\n",
       "      <td>Tuesday</td>\n",
       "    </tr>\n",
       "    <tr>\n",
       "      <th>6</th>\n",
       "      <td>489434</td>\n",
       "      <td>21871</td>\n",
       "      <td>SAVE THE PLANET MUG</td>\n",
       "      <td>24</td>\n",
       "      <td>2009-12-01 07:45:00</td>\n",
       "      <td>1.25</td>\n",
       "      <td>13085.0</td>\n",
       "      <td>United Kingdom</td>\n",
       "      <td>30.000000</td>\n",
       "      <td>Very Low</td>\n",
       "      <td>2009-12</td>\n",
       "      <td>2009-12-01</td>\n",
       "      <td>2009</td>\n",
       "      <td>12</td>\n",
       "      <td>Tuesday</td>\n",
       "    </tr>\n",
       "    <tr>\n",
       "      <th>7</th>\n",
       "      <td>489434</td>\n",
       "      <td>21523</td>\n",
       "      <td>FANCY FONT HOME SWEET HOME DOORMAT</td>\n",
       "      <td>10</td>\n",
       "      <td>2009-12-01 07:45:00</td>\n",
       "      <td>5.95</td>\n",
       "      <td>13085.0</td>\n",
       "      <td>United Kingdom</td>\n",
       "      <td>59.500000</td>\n",
       "      <td>Very Low</td>\n",
       "      <td>2009-12</td>\n",
       "      <td>2009-12-01</td>\n",
       "      <td>2009</td>\n",
       "      <td>12</td>\n",
       "      <td>Tuesday</td>\n",
       "    </tr>\n",
       "    <tr>\n",
       "      <th>8</th>\n",
       "      <td>489435</td>\n",
       "      <td>22350</td>\n",
       "      <td>CAT BOWL</td>\n",
       "      <td>12</td>\n",
       "      <td>2009-12-01 07:46:00</td>\n",
       "      <td>2.55</td>\n",
       "      <td>13085.0</td>\n",
       "      <td>United Kingdom</td>\n",
       "      <td>30.599998</td>\n",
       "      <td>Very Low</td>\n",
       "      <td>2009-12</td>\n",
       "      <td>2009-12-01</td>\n",
       "      <td>2009</td>\n",
       "      <td>12</td>\n",
       "      <td>Tuesday</td>\n",
       "    </tr>\n",
       "    <tr>\n",
       "      <th>9</th>\n",
       "      <td>489435</td>\n",
       "      <td>22349</td>\n",
       "      <td>DOG BOWL , CHASING BALL DESIGN</td>\n",
       "      <td>12</td>\n",
       "      <td>2009-12-01 07:46:00</td>\n",
       "      <td>3.75</td>\n",
       "      <td>13085.0</td>\n",
       "      <td>United Kingdom</td>\n",
       "      <td>45.000000</td>\n",
       "      <td>Very Low</td>\n",
       "      <td>2009-12</td>\n",
       "      <td>2009-12-01</td>\n",
       "      <td>2009</td>\n",
       "      <td>12</td>\n",
       "      <td>Tuesday</td>\n",
       "    </tr>\n",
       "  </tbody>\n",
       "</table>\n",
       "</div>"
      ],
      "text/plain": [
       "  Invoice StockCode                          Description  Quantity  \\\n",
       "0  489434     85048  15CM CHRISTMAS GLASS BALL 20 LIGHTS        12   \n",
       "1  489434    79323P                   PINK CHERRY LIGHTS        12   \n",
       "2  489434    79323W                  WHITE CHERRY LIGHTS        12   \n",
       "3  489434     22041         RECORD FRAME 7\" SINGLE SIZE         48   \n",
       "4  489434     21232       STRAWBERRY CERAMIC TRINKET BOX        24   \n",
       "5  489434     22064           PINK DOUGHNUT TRINKET POT         24   \n",
       "6  489434     21871                  SAVE THE PLANET MUG        24   \n",
       "7  489434     21523   FANCY FONT HOME SWEET HOME DOORMAT        10   \n",
       "8  489435     22350                            CAT BOWL         12   \n",
       "9  489435     22349       DOG BOWL , CHASING BALL DESIGN        12   \n",
       "\n",
       "      InvoiceDatetime  Price  Customer ID         Country  TotalSpending  \\\n",
       "0 2009-12-01 07:45:00   6.95      13085.0  United Kingdom      83.399994   \n",
       "1 2009-12-01 07:45:00   6.75      13085.0  United Kingdom      81.000000   \n",
       "2 2009-12-01 07:45:00   6.75      13085.0  United Kingdom      81.000000   \n",
       "3 2009-12-01 07:45:00   2.10      13085.0  United Kingdom     100.799995   \n",
       "4 2009-12-01 07:45:00   1.25      13085.0  United Kingdom      30.000000   \n",
       "5 2009-12-01 07:45:00   1.65      13085.0  United Kingdom      39.599998   \n",
       "6 2009-12-01 07:45:00   1.25      13085.0  United Kingdom      30.000000   \n",
       "7 2009-12-01 07:45:00   5.95      13085.0  United Kingdom      59.500000   \n",
       "8 2009-12-01 07:46:00   2.55      13085.0  United Kingdom      30.599998   \n",
       "9 2009-12-01 07:46:00   3.75      13085.0  United Kingdom      45.000000   \n",
       "\n",
       "  PriceCategory YearMonth InvoiceDate  Year  Month  Weekday  \n",
       "0      Very Low   2009-12  2009-12-01  2009     12  Tuesday  \n",
       "1      Very Low   2009-12  2009-12-01  2009     12  Tuesday  \n",
       "2      Very Low   2009-12  2009-12-01  2009     12  Tuesday  \n",
       "3      Very Low   2009-12  2009-12-01  2009     12  Tuesday  \n",
       "4      Very Low   2009-12  2009-12-01  2009     12  Tuesday  \n",
       "5      Very Low   2009-12  2009-12-01  2009     12  Tuesday  \n",
       "6      Very Low   2009-12  2009-12-01  2009     12  Tuesday  \n",
       "7      Very Low   2009-12  2009-12-01  2009     12  Tuesday  \n",
       "8      Very Low   2009-12  2009-12-01  2009     12  Tuesday  \n",
       "9      Very Low   2009-12  2009-12-01  2009     12  Tuesday  "
      ]
     },
     "execution_count": 16,
     "metadata": {},
     "output_type": "execute_result"
    }
   ],
   "source": [
    "data.head(10)"
   ]
  },
  {
   "cell_type": "code",
   "execution_count": 17,
   "id": "2325f98d-e075-477f-ab83-bd387900233c",
   "metadata": {},
   "outputs": [
    {
     "name": "stdout",
     "output_type": "stream",
     "text": [
      "<class 'pandas.core.frame.DataFrame'>\n",
      "RangeIndex: 824316 entries, 0 to 824315\n",
      "Data columns (total 15 columns):\n",
      " #   Column           Non-Null Count   Dtype         \n",
      "---  ------           --------------   -----         \n",
      " 0   Invoice          824316 non-null  object        \n",
      " 1   StockCode        824316 non-null  object        \n",
      " 2   Description      824316 non-null  object        \n",
      " 3   Quantity         824316 non-null  int16         \n",
      " 4   InvoiceDatetime  824316 non-null  datetime64[ns]\n",
      " 5   Price            824316 non-null  float32       \n",
      " 6   Customer ID      824316 non-null  float32       \n",
      " 7   Country          824316 non-null  object        \n",
      " 8   TotalSpending    824316 non-null  float32       \n",
      " 9   PriceCategory    824134 non-null  category      \n",
      " 10  YearMonth        824316 non-null  period[M]     \n",
      " 11  InvoiceDate      824316 non-null  period[D]     \n",
      " 12  Year             824316 non-null  int32         \n",
      " 13  Month            824316 non-null  int32         \n",
      " 14  Weekday          824316 non-null  object        \n",
      "dtypes: category(1), datetime64[ns](1), float32(3), int16(1), int32(2), object(5), period[D](1), period[M](1)\n",
      "memory usage: 68.4+ MB\n"
     ]
    }
   ],
   "source": [
    "data.info()"
   ]
  },
  {
   "cell_type": "markdown",
   "id": "f38713cc-05da-4619-9663-e3c07ea73bd9",
   "metadata": {},
   "source": [
    "At this point we have done most of the feature engineering and data cleaning we need to do, so we can explore the data further to enable our understanding of it and make it easier to make modelling decisions."
   ]
  },
  {
   "cell_type": "markdown",
   "id": "7b022e69-b67e-44ff-bde6-aca0893425f8",
   "metadata": {},
   "source": [
    "---"
   ]
  },
  {
   "cell_type": "code",
   "execution_count": null,
   "id": "cf57fb89-6370-457b-a55d-cd69cb204d2e",
   "metadata": {},
   "outputs": [],
   "source": []
  },
  {
   "cell_type": "markdown",
   "id": "ce574876-f3e4-4553-9b90-995359dc8f67",
   "metadata": {},
   "source": [
    "### Training, Calibration and Validation Split"
   ]
  },
  {
   "cell_type": "code",
   "execution_count": 18,
   "id": "a3d3b9bb-6ba6-4763-b461-29100415e672",
   "metadata": {},
   "outputs": [
    {
     "data": {
      "text/plain": [
       "((600989, 15), (101756, 15), (121571, 15))"
      ]
     },
     "execution_count": 18,
     "metadata": {},
     "output_type": "execute_result"
    }
   ],
   "source": [
    "validation_length = 2\n",
    "calibration_length = 3\n",
    "\n",
    "# Extract the most recent date in the dataset\n",
    "latest_date = data['InvoiceDate'].max()\n",
    "\n",
    "# Calculate the cutoff date for our validation set\n",
    "cutoff_date_validation = pd.Period(latest_date.to_timestamp() - pd.DateOffset(months=validation_length), freq='D')\n",
    "cutoff_date_calibration = pd.Period(latest_date.to_timestamp() - pd.DateOffset(months=(validation_length + calibration_length)), freq='D')\n",
    "\n",
    "# Split the data into training, calibration and validation sets based on the cutoff dates\n",
    "training_data = data[data['InvoiceDate']< cutoff_date_calibration]\n",
    "\n",
    "calibration_data = data[(data['InvoiceDate'] >= cutoff_date_calibration) & (data['InvoiceDate'] < cutoff_date_validation)]\n",
    "validation_data = data[data['InvoiceDate'] >= cutoff_date_validation]\n",
    "\n",
    "training_data.shape, calibration_data.shape ,validation_data.shape"
   ]
  },
  {
   "cell_type": "code",
   "execution_count": 19,
   "id": "242adbc6-f197-48dd-8777-8f85b602fcdc",
   "metadata": {},
   "outputs": [
    {
     "name": "stdout",
     "output_type": "stream",
     "text": [
      "2009-12-01\n",
      "2011-07-08\n",
      "2011-07-10\n",
      "2011-10-07\n",
      "2011-10-09\n",
      "2011-12-09\n"
     ]
    }
   ],
   "source": [
    "print(training_data['InvoiceDate'].min())\n",
    "print(training_data['InvoiceDate'].max())\n",
    "print(calibration_data['InvoiceDate'].min())\n",
    "print(calibration_data['InvoiceDate'].max())\n",
    "print(validation_data['InvoiceDate'].min())\n",
    "print(validation_data['InvoiceDate'].max())"
   ]
  },
  {
   "cell_type": "code",
   "execution_count": null,
   "id": "fd1a756e-1274-40d5-bf6e-78ca7909737b",
   "metadata": {},
   "outputs": [],
   "source": []
  },
  {
   "cell_type": "code",
   "execution_count": 20,
   "id": "898aafa1-9aac-41d9-81dd-a386cf32b2b6",
   "metadata": {},
   "outputs": [],
   "source": [
    "data = data.reset_index()"
   ]
  },
  {
   "cell_type": "code",
   "execution_count": 21,
   "id": "79de2e44-b26c-47a5-a8bb-5a6e7b896db9",
   "metadata": {},
   "outputs": [],
   "source": [
    "data = data.drop(columns=['index'],axis=1)"
   ]
  },
  {
   "cell_type": "markdown",
   "id": "592c416b-8cde-45f1-860c-b3c655702f7b",
   "metadata": {},
   "source": [
    "### Create indices for key training data variables"
   ]
  },
  {
   "cell_type": "code",
   "execution_count": 22,
   "id": "132e28b5-d61f-43c7-be38-dfa72a1beb84",
   "metadata": {},
   "outputs": [],
   "source": [
    "integer_col_dict = {'Customer ID':'CustomerIndex', 'StockCode':'ProductIndex'}\n",
    "\n",
    "training_data = create_integer_indices(df=training_data, column_dict = integer_col_dict)\n"
   ]
  },
  {
   "cell_type": "markdown",
   "id": "68d6f2f3-9237-46a7-904d-9e0e5f9326c1",
   "metadata": {},
   "source": [
    "### Save the data for next steps"
   ]
  },
  {
   "cell_type": "code",
   "execution_count": 23,
   "id": "0e0a50fa-3e40-4d25-84db-4b94d13e174b",
   "metadata": {},
   "outputs": [],
   "source": [
    "training_data.reset_index(drop=True, inplace=True)\n",
    "calibration_data.reset_index(drop=True, inplace=True)\n",
    "validation_data.reset_index(drop=True, inplace=True)"
   ]
  },
  {
   "cell_type": "code",
   "execution_count": 24,
   "id": "e35d6111-4808-47fb-8a53-a30fbb4781de",
   "metadata": {},
   "outputs": [],
   "source": [
    "data.to_feather(DATAPATH+'fullDataSet.feather')\n",
    "training_data.to_feather(DATAPATH+'training_data.feather')\n",
    "calibration_data.to_feather(DATAPATH+'calibration_data.feather')\n",
    "validation_data.to_feather(DATAPATH+'validation_data.feather')"
   ]
  },
  {
   "cell_type": "code",
   "execution_count": null,
   "id": "2d514828-0d63-4c81-a5ff-0df3441fb257",
   "metadata": {},
   "outputs": [],
   "source": []
  },
  {
   "cell_type": "code",
   "execution_count": null,
   "id": "77038bf6-306b-4879-9c0f-6752e140c2f7",
   "metadata": {},
   "outputs": [],
   "source": []
  }
 ],
 "metadata": {
  "kernelspec": {
   "display_name": "Python 3 (ipykernel)",
   "language": "python",
   "name": "python3"
  },
  "language_info": {
   "codemirror_mode": {
    "name": "ipython",
    "version": 3
   },
   "file_extension": ".py",
   "mimetype": "text/x-python",
   "name": "python",
   "nbconvert_exporter": "python",
   "pygments_lexer": "ipython3",
   "version": "3.10.11"
  }
 },
 "nbformat": 4,
 "nbformat_minor": 5
}
